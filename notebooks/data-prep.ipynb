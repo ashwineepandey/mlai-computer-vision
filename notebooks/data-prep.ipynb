{
 "cells": [
  {
   "cell_type": "code",
   "execution_count": 3,
   "metadata": {},
   "outputs": [],
   "source": [
    "import numpy as np\n",
    "import tensorflow as tf\n",
    "from keras.datasets import fashion_mnist\n",
    "from keras.applications.vgg16 import preprocess_input\n",
    "from tensorflow.keras.utils import to_categorical\n",
    "import utils as ut"
   ]
  },
  {
   "cell_type": "code",
   "execution_count": 4,
   "metadata": {},
   "outputs": [],
   "source": [
    "def load_fashion_mnist_data():\n",
    "    (X_train, y_train), (X_test, y_test) = fashion_mnist.load_data()\n",
    "    \n",
    "    X_train = np.repeat(X_train[..., np.newaxis], 3, -1)\n",
    "    X_test = np.repeat(X_test[..., np.newaxis], 3, -1)\n",
    "    \n",
    "    X_train = np.asarray([tf.image.resize(img, (32, 32)).numpy() for img in X_train])\n",
    "    X_test = np.asarray([tf.image.resize(img, (32, 32)).numpy() for img in X_test])\n",
    "    \n",
    "    X_train = preprocess_input(X_train)\n",
    "    X_test = preprocess_input(X_test)\n",
    "    \n",
    "    y_train = to_categorical(y_train, 10)\n",
    "    y_test = to_categorical(y_test, 10)\n",
    "\n",
    "    return X_train, y_train, X_test, y_test"
   ]
  },
  {
   "cell_type": "code",
   "execution_count": 5,
   "metadata": {},
   "outputs": [
    {
     "name": "stdout",
     "output_type": "stream",
     "text": [
      "Metal device set to: Apple M1\n",
      "\n",
      "systemMemory: 16.00 GB\n",
      "maxCacheSize: 5.33 GB\n",
      "\n"
     ]
    },
    {
     "name": "stderr",
     "output_type": "stream",
     "text": [
      "2023-05-06 17:51:35.131535: I tensorflow/core/common_runtime/pluggable_device/pluggable_device_factory.cc:305] Could not identify NUMA node of platform GPU ID 0, defaulting to 0. Your kernel may not have been built with NUMA support.\n",
      "2023-05-06 17:51:35.131650: I tensorflow/core/common_runtime/pluggable_device/pluggable_device_factory.cc:271] Created TensorFlow device (/job:localhost/replica:0/task:0/device:GPU:0 with 0 MB memory) -> physical PluggableDevice (device: 0, name: METAL, pci bus id: <undefined>)\n",
      "06-May-23 17:52:37 - INFO - Starting 'split_dataset'.\n",
      "06-May-23 17:52:37 - INFO - Starting '_shuffle_data'.\n",
      "06-May-23 17:52:37 - INFO - Finished '_shuffle_data' in 0.3042 secs.\n",
      "06-May-23 17:52:37 - INFO - Finished 'split_dataset' in 0.3048 secs.\n",
      "06-May-23 17:52:37 - INFO - Starting 'convert_image_data'.\n",
      "06-May-23 17:52:38 - INFO - Finished 'convert_image_data' in 0.2708 secs.\n"
     ]
    }
   ],
   "source": [
    "trainX, trainY, testX, testY = load_fashion_mnist_data()\n",
    "# split training data into training and validation sets\n",
    "trainX, trainY, valX, valY = ut.split_dataset(trainX, trainY)\n",
    "# convert image data to float32 and normalize\n",
    "trainX, testX, valX = ut.convert_image_data(trainX, testX, valX)"
   ]
  },
  {
   "cell_type": "code",
   "execution_count": 6,
   "metadata": {},
   "outputs": [],
   "source": [
    "# If you want to use compression, use numpy.savez_compressed instead\n",
    "np.savez_compressed('../data/05_model_input/A3/fashionMNIST.npz', trainX=trainX, trainY=trainY, testX=testX, testY=testY, valX=valX, valY=valY)"
   ]
  },
  {
   "cell_type": "code",
   "execution_count": null,
   "metadata": {},
   "outputs": [],
   "source": []
  }
 ],
 "metadata": {
  "kernelspec": {
   "display_name": "mlai_cvgan",
   "language": "python",
   "name": "python3"
  },
  "language_info": {
   "codemirror_mode": {
    "name": "ipython",
    "version": 3
   },
   "file_extension": ".py",
   "mimetype": "text/x-python",
   "name": "python",
   "nbconvert_exporter": "python",
   "pygments_lexer": "ipython3",
   "version": "3.9.12"
  },
  "orig_nbformat": 4
 },
 "nbformat": 4,
 "nbformat_minor": 2
}
