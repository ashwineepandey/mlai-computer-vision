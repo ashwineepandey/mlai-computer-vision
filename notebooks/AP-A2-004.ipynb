{
 "cells": [
  {
   "cell_type": "code",
   "execution_count": 1,
   "metadata": {},
   "outputs": [
    {
     "name": "stdout",
     "output_type": "stream",
     "text": [
      "Init Plugin\n",
      "Init Graph Optimizer\n",
      "Init Kernel\n"
     ]
    }
   ],
   "source": [
    "# Import necessary libraries\n",
    "import os\n",
    "import numpy as np\n",
    "from sklearn.model_selection import train_test_split\n",
    "from tensorflow.keras.layers import Conv2D, Input, Dense, Reshape, Conv2DTranspose,\\\n",
    "    Activation, BatchNormalization, ReLU, Concatenate\n",
    "from tensorflow.keras.models import Model\n",
    "from tensorflow.keras.callbacks import ModelCheckpoint\n",
    "from tensorflow.keras.datasets import cifar10\n",
    "from tensorflow.keras import backend as K\n",
    "import matplotlib.pyplot as plt\n",
    "# import cv2\n",
    "import glob"
   ]
  },
  {
   "cell_type": "code",
   "execution_count": null,
   "metadata": {},
   "outputs": [],
   "source": [
    "\n",
    "\n",
    "# Set random seeds for reproducability\n",
    "np.random.seed(0)\n",
    "tf.random.set_seed(0)\n",
    "\n",
    "# Define constants\n",
    "NOISE_FACTOR = 0.1\n",
    "\n",
    "# 1. Download and load the data\n",
    "def load_data():\n",
    "    images = []\n",
    "    for img_path in glob.glob(\"lfwcrop_color/faces/*.ppm\"):\n",
    "        img = cv2.imread(img_path)\n",
    "        img = cv2.cvtColor(img, cv2.COLOR_BGR2RGB)\n",
    "        img = cv2.resize(img, (64, 64))\n",
    "        img = img / 255.0\n",
    "        images.append(img)\n",
    "    images = np.array(images)\n",
    "    return images\n",
    "\n",
    "# 2. Preprocess the data\n",
    "def preprocess_data(images):\n",
    "    images_noisy = images + NOISE_FACTOR * np.random.normal(loc=0.0, scale=1.0, size=images.shape) \n",
    "    images_noisy = np.clip(images_noisy, 0., 1.)\n",
    "    return images_noisy\n",
    "\n",
    "# 3. Split the data into training, validation, and test sets\n",
    "def split_data(images_clean, images_noisy):\n",
    "    images_clean_train, images_clean_test, images_noisy_train, images_noisy_test = train_test_split(images_clean, images_noisy, test_size=0.2, random_state=0)\n",
    "    return images_clean_train, images_clean_test, images_noisy_train, images_noisy_test\n",
    "\n",
    "# 4. Create the Denoising Autoencoder model\n",
    "def create_model():\n",
    "    inputs = Input(shape=(64, 64, 3))\n",
    "    x = inputs\n",
    "\n",
    "    # Encoder\n",
    "    for i in range(2):\n",
    "        x = Conv2D(32*2**i, 3, strides=2, padding=\"same\")(x)\n",
    "        x = BatchNormalization()(x)\n",
    "        x = ReLU()(x)\n",
    "\n",
    "    x = Flatten()(x)\n",
    "    x = Dense(256)(x)\n",
    "\n",
    "    # Decoder\n",
    "    x = Dense(np.prod(shape_before_flattening))(x)\n",
    "    x = Reshape(shape_before_flattening)(x)\n",
    "\n",
    "    for i in range(2):\n",
    "        x = Conv2DTranspose(64//2**i, 3, strides=2, padding=\"same\")(x)\n",
    "        x = BatchNormalization()(x)\n",
    "        x = ReLU()(x)\n",
    "\n",
    "    outputs = Conv2DTranspose(3, 3, activation='sigmoid', padding='same')(x)\n",
    "\n",
    "    # Create the model\n",
    "    model = Model(inputs, outputs)\n",
    "    return model\n",
    "\n",
    "# 5. Compile and train the model\n",
    "def compile_and_train_model(model, images_clean_train, images_noisy_train, images_clean_test, images_noisy_test):\n",
    "    model.compile(optimizer='adam', loss='mse')\n",
    "    model.fit(images_noisy_train, images_clean_train, validation_data=(images_noisy_test,\n"
   ]
  },
  {
   "cell_type": "code",
   "execution_count": null,
   "metadata": {},
   "outputs": [],
   "source": []
  },
  {
   "cell_type": "code",
   "execution_count": null,
   "metadata": {},
   "outputs": [],
   "source": []
  },
  {
   "cell_type": "code",
   "execution_count": null,
   "metadata": {},
   "outputs": [],
   "source": []
  }
 ],
 "metadata": {
  "kernelspec": {
   "display_name": "mlai_cv",
   "language": "python",
   "name": "python3"
  },
  "language_info": {
   "codemirror_mode": {
    "name": "ipython",
    "version": 3
   },
   "file_extension": ".py",
   "mimetype": "text/x-python",
   "name": "python",
   "nbconvert_exporter": "python",
   "pygments_lexer": "ipython3",
   "version": "3.9.12"
  },
  "orig_nbformat": 4
 },
 "nbformat": 4,
 "nbformat_minor": 2
}
