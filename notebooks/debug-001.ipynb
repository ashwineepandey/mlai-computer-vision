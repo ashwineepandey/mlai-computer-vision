{
 "cells": [
  {
   "cell_type": "code",
   "execution_count": 1,
   "metadata": {},
   "outputs": [
    {
     "name": "stdout",
     "output_type": "stream",
     "text": [
      "Migrating database to v0.20.1\n"
     ]
    }
   ],
   "source": [
    "import fiftyone as fo"
   ]
  },
  {
   "cell_type": "code",
   "execution_count": 2,
   "metadata": {},
   "outputs": [],
   "source": [
    "import fiftyone as fo\n",
    "import fiftyone.zoo as foz"
   ]
  },
  {
   "cell_type": "code",
   "execution_count": 3,
   "metadata": {},
   "outputs": [
    {
     "name": "stdout",
     "output_type": "stream",
     "text": [
      "Downloading split 'validation' to '/Users/ashwineekumarpandey/fiftyone/coco-2017/validation' if necessary\n",
      "Downloading annotations to '/Users/ashwineekumarpandey/fiftyone/coco-2017/tmp-download/annotations_trainval2017.zip'\n",
      " 100% |██████|    1.9Gb/1.9Gb [1.6m elapsed, 0s remaining, 28.7Mb/s]      \n",
      "Extracting annotations to '/Users/ashwineekumarpandey/fiftyone/coco-2017/raw/instances_val2017.json'\n",
      "Downloading 50 images\n",
      " 100% |████████████████████| 50/50 [9.7s elapsed, 0s remaining, 6.0 images/s]      \n",
      "Writing annotations for 50 downloaded samples to '/Users/ashwineekumarpandey/fiftyone/coco-2017/validation/labels.json'\n",
      "Dataset info written to '/Users/ashwineekumarpandey/fiftyone/coco-2017/info.json'\n",
      "Loading 'coco-2017' split 'validation'\n",
      " 100% |███████████████████| 50/50 [138.9ms elapsed, 0s remaining, 361.9 samples/s] \n",
      "Dataset 'coco-2017-validation-50' created\n"
     ]
    },
    {
     "data": {
      "text/html": [
       "\n",
       "        <iframe\n",
       "            width=\"100%\"\n",
       "            height=\"800\"\n",
       "            src=\"http://localhost:5151/?notebook=True&subscription=c0c324bb-83e8-4302-a617-6bcfb26f380c\"\n",
       "            frameborder=\"0\"\n",
       "            allowfullscreen\n",
       "            \n",
       "        ></iframe>\n",
       "        "
      ],
      "text/plain": [
       "<IPython.lib.display.IFrame at 0x2935538b0>"
      ]
     },
     "metadata": {},
     "output_type": "display_data"
    }
   ],
   "source": [
    "dataset = foz.load_zoo_dataset(\n",
    "    \"coco-2017\",\n",
    "    split=\"validation\",\n",
    "    max_samples=50,\n",
    "    shuffle=True,\n",
    ")\n",
    "\n",
    "session = fo.launch_app(dataset)"
   ]
  },
  {
   "cell_type": "code",
   "execution_count": null,
   "metadata": {},
   "outputs": [],
   "source": []
  },
  {
   "cell_type": "code",
   "execution_count": null,
   "metadata": {},
   "outputs": [],
   "source": []
  },
  {
   "cell_type": "code",
   "execution_count": 24,
   "metadata": {},
   "outputs": [],
   "source": [
    "import pandas as pd\n",
    "import numpy as np\n",
    "from utils import timer, load_config, get_current_dt, load_npz, f1_score\n",
    "import itertools\n",
    "import utils as ut"
   ]
  },
  {
   "cell_type": "code",
   "execution_count": 5,
   "metadata": {},
   "outputs": [],
   "source": [
    "def load_npz(filepath: str):\n",
    "    \"\"\"\n",
    "    Load numpy array from compressed npz file.\n",
    "\n",
    "    Args:\n",
    "        filepath (str): The filepath to load the npz file from.\n",
    "\n",
    "    Returns:\n",
    "        Dict[str, List[Tuple[int, int]]]: A dictionary of numpy arrays.\n",
    "    \"\"\"\n",
    "    data = np.load(filepath)\n",
    "    return data"
   ]
  },
  {
   "cell_type": "code",
   "execution_count": 20,
   "metadata": {},
   "outputs": [
    {
     "name": "stderr",
     "output_type": "stream",
     "text": [
      "30-Apr-23 02:00:26 - INFO - Starting 'load_config'.\n",
      "30-Apr-23 02:00:26 - INFO - Finished 'load_config' in 0.0178 secs.\n"
     ]
    }
   ],
   "source": [
    "conf = load_config()"
   ]
  },
  {
   "cell_type": "code",
   "execution_count": 21,
   "metadata": {},
   "outputs": [
    {
     "data": {
      "text/plain": [
       "'../data/06_models/A2/'"
      ]
     },
     "execution_count": 21,
     "metadata": {},
     "output_type": "execute_result"
    }
   ],
   "source": [
    "conf.paths.a2_model"
   ]
  },
  {
   "cell_type": "code",
   "execution_count": 22,
   "metadata": {},
   "outputs": [],
   "source": [
    "import pickle\n",
    "\n",
    "my_dict = {1: 'person',\n",
    " 2: 'bicycle',\n",
    " 3: 'car',\n",
    " 4: 'motorcycle',\n",
    " 5: 'airplane',\n",
    " 6: 'bs',\n",
    " 7: 'train',\n",
    " 8: 'trck',\n",
    " 9: 'boat',\n",
    " 10: 'traffic light',\n",
    " 11: 'fire hydrant',\n",
    " 12: 'stop sign',\n",
    " 13: 'parking meter',\n",
    " 14: 'bench',\n",
    " 15: 'bird',\n",
    " 16: 'cat',\n",
    " 17: 'dog',\n",
    " 18: 'horse',\n",
    " 19: 'sheep',\n",
    " 20: 'cow',\n",
    " 21: 'elephant',\n",
    " 22: 'bear',\n",
    " 23: 'zebra',\n",
    " 24: 'giraffe',\n",
    " 25: 'backpack',\n",
    " 26: 'mbrella',\n",
    " 27: 'handbag',\n",
    " 28: 'tie',\n",
    " 29: 'sitcase',\n",
    " 30: 'frisbee',\n",
    " 31: 'skis',\n",
    " 32: 'snowboard',\n",
    " 33: 'sports ball',\n",
    " 34: 'kite',\n",
    " 35: 'baseball bat',\n",
    " 36: 'baseball glove',\n",
    " 37: 'skateboard',\n",
    " 38: 'srfboard',\n",
    " 39: 'tennis racket',\n",
    " 40: 'bottle',\n",
    " 41: 'wine glass',\n",
    " 42: 'cp',\n",
    " 43: 'fork',\n",
    " 44: 'knife',\n",
    " 45: 'spoon',\n",
    " 46: 'bowl',\n",
    " 47: 'banana',\n",
    " 48: 'apple',\n",
    " 49: 'sandwich',\n",
    " 50: 'orange',\n",
    " 51: 'broccoli',\n",
    " 52: 'carrot',\n",
    " 53: 'hot dog',\n",
    " 54: 'pizza',\n",
    " 55: 'dont',\n",
    " 56: 'cake',\n",
    " 57: 'chair',\n",
    " 58: 'coch',\n",
    " 59: 'potted plant',\n",
    " 60: 'bed',\n",
    " 61: 'dining table',\n",
    " 62: 'toilet',\n",
    " 63: 'tv',\n",
    " 64: 'laptop',\n",
    " 65: 'mose',\n",
    " 66: 'remote',\n",
    " 67: 'keyboard',\n",
    " 68: 'cell phone',\n",
    " 69: 'microwave',\n",
    " 70: 'oven',\n",
    " 71: 'toaster',\n",
    " 72: 'sink',\n",
    " 73: 'refrigerator',\n",
    " 74: 'book',\n",
    " 75: 'clock',\n",
    " 76: 'vase',\n",
    " 77: 'scissors',\n",
    " 78: 'teddy bear',\n",
    " 79: 'hair drier',\n",
    " 80: 'toothbrsh'}\n",
    "\n",
    "with open('../data/01_raw/coco_labels.pkl', 'wb') as f:\n",
    "    pickle.dump(my_dict, f)"
   ]
  },
  {
   "cell_type": "code",
   "execution_count": null,
   "metadata": {},
   "outputs": [],
   "source": []
  },
  {
   "cell_type": "code",
   "execution_count": 6,
   "metadata": {},
   "outputs": [
    {
     "data": {
      "text/plain": [
       "odict_values([[2, 3, 4], [32], [3], [1, 2], [128], [0.001], [0.9], ['relu', 'selu', 'tanh'], ['same'], [False, True], [True], [0.2], [True], [2]])"
      ]
     },
     "execution_count": 6,
     "metadata": {},
     "output_type": "execute_result"
    }
   ],
   "source": [
    "conf.a1_q1_hyperparams.values()"
   ]
  },
  {
   "cell_type": "code",
   "execution_count": 7,
   "metadata": {},
   "outputs": [
    {
     "data": {
      "text/plain": [
       "['num_conv_layers',\n",
       " 'num_filters',\n",
       " 'filter_size',\n",
       " 'num_dense_layers',\n",
       " 'dense_units',\n",
       " 'learning_rate',\n",
       " 'momentum',\n",
       " 'activation',\n",
       " 'padding',\n",
       " 'use_batch_norm',\n",
       " 'use_dropout',\n",
       " 'dropout_rate',\n",
       " 'use_early_stopping',\n",
       " 'patience']"
      ]
     },
     "execution_count": 7,
     "metadata": {},
     "output_type": "execute_result"
    }
   ],
   "source": [
    "param_names = list(conf.a1_q1_hyperparams.keys())\n",
    "param_names"
   ]
  },
  {
   "cell_type": "code",
   "execution_count": 9,
   "metadata": {},
   "outputs": [
    {
     "data": {
      "text/html": [
       "<div>\n",
       "<style scoped>\n",
       "    .dataframe tbody tr th:only-of-type {\n",
       "        vertical-align: middle;\n",
       "    }\n",
       "\n",
       "    .dataframe tbody tr th {\n",
       "        vertical-align: top;\n",
       "    }\n",
       "\n",
       "    .dataframe thead th {\n",
       "        text-align: right;\n",
       "    }\n",
       "</style>\n",
       "<table border=\"1\" class=\"dataframe\">\n",
       "  <thead>\n",
       "    <tr style=\"text-align: right;\">\n",
       "      <th></th>\n",
       "      <th>iteration</th>\n",
       "      <th>num_conv_layers</th>\n",
       "      <th>num_filters</th>\n",
       "      <th>filter_size</th>\n",
       "      <th>num_dense_layers</th>\n",
       "      <th>dense_units</th>\n",
       "      <th>learning_rate</th>\n",
       "      <th>momentum</th>\n",
       "      <th>activation</th>\n",
       "      <th>padding</th>\n",
       "      <th>use_batch_norm</th>\n",
       "      <th>use_dropout</th>\n",
       "      <th>dropout_rate</th>\n",
       "      <th>use_early_stopping</th>\n",
       "      <th>patience</th>\n",
       "      <th>train_accuracy</th>\n",
       "      <th>train_f1_score</th>\n",
       "      <th>val_accuracy</th>\n",
       "      <th>val_f1_score</th>\n",
       "    </tr>\n",
       "  </thead>\n",
       "  <tbody>\n",
       "  </tbody>\n",
       "</table>\n",
       "</div>"
      ],
      "text/plain": [
       "Empty DataFrame\n",
       "Columns: [iteration, num_conv_layers, num_filters, filter_size, num_dense_layers, dense_units, learning_rate, momentum, activation, padding, use_batch_norm, use_dropout, dropout_rate, use_early_stopping, patience, train_accuracy, train_f1_score, val_accuracy, val_f1_score]\n",
       "Index: []"
      ]
     },
     "execution_count": 9,
     "metadata": {},
     "output_type": "execute_result"
    }
   ],
   "source": [
    "results_df = pd.DataFrame(columns=[\"iteration\", *param_names, \"train_accuracy\", \"train_f1_score\", \"val_accuracy\", \"val_f1_score\"])\n",
    "results_df"
   ]
  },
  {
   "cell_type": "code",
   "execution_count": 11,
   "metadata": {},
   "outputs": [
    {
     "data": {
      "text/plain": [
       "[(2, 32, 3, 1, 128, 0.001, 0.9, 'relu', 'same', False, True, 0.2, True, 2),\n",
       " (2, 32, 3, 1, 128, 0.001, 0.9, 'relu', 'same', True, True, 0.2, True, 2),\n",
       " (2, 32, 3, 1, 128, 0.001, 0.9, 'selu', 'same', False, True, 0.2, True, 2),\n",
       " (2, 32, 3, 1, 128, 0.001, 0.9, 'selu', 'same', True, True, 0.2, True, 2),\n",
       " (2, 32, 3, 1, 128, 0.001, 0.9, 'tanh', 'same', False, True, 0.2, True, 2),\n",
       " (2, 32, 3, 1, 128, 0.001, 0.9, 'tanh', 'same', True, True, 0.2, True, 2),\n",
       " (2, 32, 3, 2, 128, 0.001, 0.9, 'relu', 'same', False, True, 0.2, True, 2),\n",
       " (2, 32, 3, 2, 128, 0.001, 0.9, 'relu', 'same', True, True, 0.2, True, 2),\n",
       " (2, 32, 3, 2, 128, 0.001, 0.9, 'selu', 'same', False, True, 0.2, True, 2),\n",
       " (2, 32, 3, 2, 128, 0.001, 0.9, 'selu', 'same', True, True, 0.2, True, 2),\n",
       " (2, 32, 3, 2, 128, 0.001, 0.9, 'tanh', 'same', False, True, 0.2, True, 2),\n",
       " (2, 32, 3, 2, 128, 0.001, 0.9, 'tanh', 'same', True, True, 0.2, True, 2),\n",
       " (3, 32, 3, 1, 128, 0.001, 0.9, 'relu', 'same', False, True, 0.2, True, 2),\n",
       " (3, 32, 3, 1, 128, 0.001, 0.9, 'relu', 'same', True, True, 0.2, True, 2),\n",
       " (3, 32, 3, 1, 128, 0.001, 0.9, 'selu', 'same', False, True, 0.2, True, 2),\n",
       " (3, 32, 3, 1, 128, 0.001, 0.9, 'selu', 'same', True, True, 0.2, True, 2),\n",
       " (3, 32, 3, 1, 128, 0.001, 0.9, 'tanh', 'same', False, True, 0.2, True, 2),\n",
       " (3, 32, 3, 1, 128, 0.001, 0.9, 'tanh', 'same', True, True, 0.2, True, 2),\n",
       " (3, 32, 3, 2, 128, 0.001, 0.9, 'relu', 'same', False, True, 0.2, True, 2),\n",
       " (3, 32, 3, 2, 128, 0.001, 0.9, 'relu', 'same', True, True, 0.2, True, 2),\n",
       " (3, 32, 3, 2, 128, 0.001, 0.9, 'selu', 'same', False, True, 0.2, True, 2),\n",
       " (3, 32, 3, 2, 128, 0.001, 0.9, 'selu', 'same', True, True, 0.2, True, 2),\n",
       " (3, 32, 3, 2, 128, 0.001, 0.9, 'tanh', 'same', False, True, 0.2, True, 2),\n",
       " (3, 32, 3, 2, 128, 0.001, 0.9, 'tanh', 'same', True, True, 0.2, True, 2),\n",
       " (4, 32, 3, 1, 128, 0.001, 0.9, 'relu', 'same', False, True, 0.2, True, 2),\n",
       " (4, 32, 3, 1, 128, 0.001, 0.9, 'relu', 'same', True, True, 0.2, True, 2),\n",
       " (4, 32, 3, 1, 128, 0.001, 0.9, 'selu', 'same', False, True, 0.2, True, 2),\n",
       " (4, 32, 3, 1, 128, 0.001, 0.9, 'selu', 'same', True, True, 0.2, True, 2),\n",
       " (4, 32, 3, 1, 128, 0.001, 0.9, 'tanh', 'same', False, True, 0.2, True, 2),\n",
       " (4, 32, 3, 1, 128, 0.001, 0.9, 'tanh', 'same', True, True, 0.2, True, 2),\n",
       " (4, 32, 3, 2, 128, 0.001, 0.9, 'relu', 'same', False, True, 0.2, True, 2),\n",
       " (4, 32, 3, 2, 128, 0.001, 0.9, 'relu', 'same', True, True, 0.2, True, 2),\n",
       " (4, 32, 3, 2, 128, 0.001, 0.9, 'selu', 'same', False, True, 0.2, True, 2),\n",
       " (4, 32, 3, 2, 128, 0.001, 0.9, 'selu', 'same', True, True, 0.2, True, 2),\n",
       " (4, 32, 3, 2, 128, 0.001, 0.9, 'tanh', 'same', False, True, 0.2, True, 2),\n",
       " (4, 32, 3, 2, 128, 0.001, 0.9, 'tanh', 'same', True, True, 0.2, True, 2)]"
      ]
     },
     "execution_count": 11,
     "metadata": {},
     "output_type": "execute_result"
    }
   ],
   "source": [
    "param_values = list(itertools.product(*conf.a1_q1_hyperparams.values()))\n",
    "param_values"
   ]
  },
  {
   "cell_type": "code",
   "execution_count": 8,
   "metadata": {},
   "outputs": [
    {
     "data": {
      "text/html": [
       "<div>\n",
       "<style scoped>\n",
       "    .dataframe tbody tr th:only-of-type {\n",
       "        vertical-align: middle;\n",
       "    }\n",
       "\n",
       "    .dataframe tbody tr th {\n",
       "        vertical-align: top;\n",
       "    }\n",
       "\n",
       "    .dataframe thead th {\n",
       "        text-align: right;\n",
       "    }\n",
       "</style>\n",
       "<table border=\"1\" class=\"dataframe\">\n",
       "  <thead>\n",
       "    <tr style=\"text-align: right;\">\n",
       "      <th></th>\n",
       "      <th>iteration</th>\n",
       "      <th>num_conv_layers</th>\n",
       "      <th>num_filters</th>\n",
       "      <th>filter_size</th>\n",
       "      <th>num_dense_layers</th>\n",
       "      <th>dense_units</th>\n",
       "      <th>learning_rate</th>\n",
       "      <th>momentum</th>\n",
       "      <th>activation</th>\n",
       "      <th>padding</th>\n",
       "      <th>use_batch_norm</th>\n",
       "      <th>use_dropout</th>\n",
       "      <th>dropout_rate</th>\n",
       "      <th>use_early_stopping</th>\n",
       "      <th>patience</th>\n",
       "      <th>train_accuracy</th>\n",
       "      <th>train_f1_score</th>\n",
       "      <th>val_accuracy</th>\n",
       "      <th>val_f1_score</th>\n",
       "    </tr>\n",
       "  </thead>\n",
       "  <tbody>\n",
       "  </tbody>\n",
       "</table>\n",
       "</div>"
      ],
      "text/plain": [
       "Empty DataFrame\n",
       "Columns: [iteration, num_conv_layers, num_filters, filter_size, num_dense_layers, dense_units, learning_rate, momentum, activation, padding, use_batch_norm, use_dropout, dropout_rate, use_early_stopping, patience, train_accuracy, train_f1_score, val_accuracy, val_f1_score]\n",
       "Index: []"
      ]
     },
     "execution_count": 8,
     "metadata": {},
     "output_type": "execute_result"
    }
   ],
   "source": [
    "# generate all possible combinations of hyperparameters\n",
    "param_values = list(itertools.product(*conf.a1_q1_hyperparams.values()))\n",
    "param_names = list(conf.a1_q1_hyperparams.keys())\n",
    "# Create an empty dataframe to store the results\n",
    "results_df = pd.DataFrame(columns=[\"iteration\", *param_names, \"train_accuracy\", \"train_f1_score\", \"val_accuracy\", \"val_f1_score\"])\n",
    "results_df"
   ]
  },
  {
   "cell_type": "code",
   "execution_count": 9,
   "metadata": {},
   "outputs": [
    {
     "name": "stderr",
     "output_type": "stream",
     "text": [
      "/var/folders/0g/blggksdj42z52nv3fy0h5b880000gn/T/ipykernel_51159/3305960176.py:7: FutureWarning: The frame.append method is deprecated and will be removed from pandas in a future version. Use pandas.concat instead.\n",
      "  results_df = results_df.append({\n",
      "/var/folders/0g/blggksdj42z52nv3fy0h5b880000gn/T/ipykernel_51159/3305960176.py:7: FutureWarning: The frame.append method is deprecated and will be removed from pandas in a future version. Use pandas.concat instead.\n",
      "  results_df = results_df.append({\n",
      "/var/folders/0g/blggksdj42z52nv3fy0h5b880000gn/T/ipykernel_51159/3305960176.py:7: FutureWarning: The frame.append method is deprecated and will be removed from pandas in a future version. Use pandas.concat instead.\n",
      "  results_df = results_df.append({\n",
      "/var/folders/0g/blggksdj42z52nv3fy0h5b880000gn/T/ipykernel_51159/3305960176.py:7: FutureWarning: The frame.append method is deprecated and will be removed from pandas in a future version. Use pandas.concat instead.\n",
      "  results_df = results_df.append({\n",
      "/var/folders/0g/blggksdj42z52nv3fy0h5b880000gn/T/ipykernel_51159/3305960176.py:7: FutureWarning: The frame.append method is deprecated and will be removed from pandas in a future version. Use pandas.concat instead.\n",
      "  results_df = results_df.append({\n",
      "/var/folders/0g/blggksdj42z52nv3fy0h5b880000gn/T/ipykernel_51159/3305960176.py:7: FutureWarning: The frame.append method is deprecated and will be removed from pandas in a future version. Use pandas.concat instead.\n",
      "  results_df = results_df.append({\n",
      "/var/folders/0g/blggksdj42z52nv3fy0h5b880000gn/T/ipykernel_51159/3305960176.py:7: FutureWarning: The frame.append method is deprecated and will be removed from pandas in a future version. Use pandas.concat instead.\n",
      "  results_df = results_df.append({\n",
      "/var/folders/0g/blggksdj42z52nv3fy0h5b880000gn/T/ipykernel_51159/3305960176.py:7: FutureWarning: The frame.append method is deprecated and will be removed from pandas in a future version. Use pandas.concat instead.\n",
      "  results_df = results_df.append({\n",
      "/var/folders/0g/blggksdj42z52nv3fy0h5b880000gn/T/ipykernel_51159/3305960176.py:7: FutureWarning: The frame.append method is deprecated and will be removed from pandas in a future version. Use pandas.concat instead.\n",
      "  results_df = results_df.append({\n",
      "/var/folders/0g/blggksdj42z52nv3fy0h5b880000gn/T/ipykernel_51159/3305960176.py:7: FutureWarning: The frame.append method is deprecated and will be removed from pandas in a future version. Use pandas.concat instead.\n",
      "  results_df = results_df.append({\n",
      "/var/folders/0g/blggksdj42z52nv3fy0h5b880000gn/T/ipykernel_51159/3305960176.py:7: FutureWarning: The frame.append method is deprecated and will be removed from pandas in a future version. Use pandas.concat instead.\n",
      "  results_df = results_df.append({\n",
      "/var/folders/0g/blggksdj42z52nv3fy0h5b880000gn/T/ipykernel_51159/3305960176.py:7: FutureWarning: The frame.append method is deprecated and will be removed from pandas in a future version. Use pandas.concat instead.\n",
      "  results_df = results_df.append({\n",
      "/var/folders/0g/blggksdj42z52nv3fy0h5b880000gn/T/ipykernel_51159/3305960176.py:7: FutureWarning: The frame.append method is deprecated and will be removed from pandas in a future version. Use pandas.concat instead.\n",
      "  results_df = results_df.append({\n",
      "/var/folders/0g/blggksdj42z52nv3fy0h5b880000gn/T/ipykernel_51159/3305960176.py:7: FutureWarning: The frame.append method is deprecated and will be removed from pandas in a future version. Use pandas.concat instead.\n",
      "  results_df = results_df.append({\n",
      "/var/folders/0g/blggksdj42z52nv3fy0h5b880000gn/T/ipykernel_51159/3305960176.py:7: FutureWarning: The frame.append method is deprecated and will be removed from pandas in a future version. Use pandas.concat instead.\n",
      "  results_df = results_df.append({\n",
      "/var/folders/0g/blggksdj42z52nv3fy0h5b880000gn/T/ipykernel_51159/3305960176.py:7: FutureWarning: The frame.append method is deprecated and will be removed from pandas in a future version. Use pandas.concat instead.\n",
      "  results_df = results_df.append({\n",
      "/var/folders/0g/blggksdj42z52nv3fy0h5b880000gn/T/ipykernel_51159/3305960176.py:7: FutureWarning: The frame.append method is deprecated and will be removed from pandas in a future version. Use pandas.concat instead.\n",
      "  results_df = results_df.append({\n",
      "/var/folders/0g/blggksdj42z52nv3fy0h5b880000gn/T/ipykernel_51159/3305960176.py:7: FutureWarning: The frame.append method is deprecated and will be removed from pandas in a future version. Use pandas.concat instead.\n",
      "  results_df = results_df.append({\n",
      "/var/folders/0g/blggksdj42z52nv3fy0h5b880000gn/T/ipykernel_51159/3305960176.py:7: FutureWarning: The frame.append method is deprecated and will be removed from pandas in a future version. Use pandas.concat instead.\n",
      "  results_df = results_df.append({\n",
      "/var/folders/0g/blggksdj42z52nv3fy0h5b880000gn/T/ipykernel_51159/3305960176.py:7: FutureWarning: The frame.append method is deprecated and will be removed from pandas in a future version. Use pandas.concat instead.\n",
      "  results_df = results_df.append({\n",
      "/var/folders/0g/blggksdj42z52nv3fy0h5b880000gn/T/ipykernel_51159/3305960176.py:7: FutureWarning: The frame.append method is deprecated and will be removed from pandas in a future version. Use pandas.concat instead.\n",
      "  results_df = results_df.append({\n",
      "/var/folders/0g/blggksdj42z52nv3fy0h5b880000gn/T/ipykernel_51159/3305960176.py:7: FutureWarning: The frame.append method is deprecated and will be removed from pandas in a future version. Use pandas.concat instead.\n",
      "  results_df = results_df.append({\n",
      "/var/folders/0g/blggksdj42z52nv3fy0h5b880000gn/T/ipykernel_51159/3305960176.py:7: FutureWarning: The frame.append method is deprecated and will be removed from pandas in a future version. Use pandas.concat instead.\n",
      "  results_df = results_df.append({\n",
      "/var/folders/0g/blggksdj42z52nv3fy0h5b880000gn/T/ipykernel_51159/3305960176.py:7: FutureWarning: The frame.append method is deprecated and will be removed from pandas in a future version. Use pandas.concat instead.\n",
      "  results_df = results_df.append({\n",
      "/var/folders/0g/blggksdj42z52nv3fy0h5b880000gn/T/ipykernel_51159/3305960176.py:7: FutureWarning: The frame.append method is deprecated and will be removed from pandas in a future version. Use pandas.concat instead.\n",
      "  results_df = results_df.append({\n",
      "/var/folders/0g/blggksdj42z52nv3fy0h5b880000gn/T/ipykernel_51159/3305960176.py:7: FutureWarning: The frame.append method is deprecated and will be removed from pandas in a future version. Use pandas.concat instead.\n",
      "  results_df = results_df.append({\n",
      "/var/folders/0g/blggksdj42z52nv3fy0h5b880000gn/T/ipykernel_51159/3305960176.py:7: FutureWarning: The frame.append method is deprecated and will be removed from pandas in a future version. Use pandas.concat instead.\n",
      "  results_df = results_df.append({\n",
      "/var/folders/0g/blggksdj42z52nv3fy0h5b880000gn/T/ipykernel_51159/3305960176.py:7: FutureWarning: The frame.append method is deprecated and will be removed from pandas in a future version. Use pandas.concat instead.\n",
      "  results_df = results_df.append({\n",
      "/var/folders/0g/blggksdj42z52nv3fy0h5b880000gn/T/ipykernel_51159/3305960176.py:7: FutureWarning: The frame.append method is deprecated and will be removed from pandas in a future version. Use pandas.concat instead.\n",
      "  results_df = results_df.append({\n",
      "/var/folders/0g/blggksdj42z52nv3fy0h5b880000gn/T/ipykernel_51159/3305960176.py:7: FutureWarning: The frame.append method is deprecated and will be removed from pandas in a future version. Use pandas.concat instead.\n",
      "  results_df = results_df.append({\n",
      "/var/folders/0g/blggksdj42z52nv3fy0h5b880000gn/T/ipykernel_51159/3305960176.py:7: FutureWarning: The frame.append method is deprecated and will be removed from pandas in a future version. Use pandas.concat instead.\n",
      "  results_df = results_df.append({\n",
      "/var/folders/0g/blggksdj42z52nv3fy0h5b880000gn/T/ipykernel_51159/3305960176.py:7: FutureWarning: The frame.append method is deprecated and will be removed from pandas in a future version. Use pandas.concat instead.\n",
      "  results_df = results_df.append({\n",
      "/var/folders/0g/blggksdj42z52nv3fy0h5b880000gn/T/ipykernel_51159/3305960176.py:7: FutureWarning: The frame.append method is deprecated and will be removed from pandas in a future version. Use pandas.concat instead.\n",
      "  results_df = results_df.append({\n",
      "/var/folders/0g/blggksdj42z52nv3fy0h5b880000gn/T/ipykernel_51159/3305960176.py:7: FutureWarning: The frame.append method is deprecated and will be removed from pandas in a future version. Use pandas.concat instead.\n",
      "  results_df = results_df.append({\n",
      "/var/folders/0g/blggksdj42z52nv3fy0h5b880000gn/T/ipykernel_51159/3305960176.py:7: FutureWarning: The frame.append method is deprecated and will be removed from pandas in a future version. Use pandas.concat instead.\n",
      "  results_df = results_df.append({\n",
      "/var/folders/0g/blggksdj42z52nv3fy0h5b880000gn/T/ipykernel_51159/3305960176.py:7: FutureWarning: The frame.append method is deprecated and will be removed from pandas in a future version. Use pandas.concat instead.\n",
      "  results_df = results_df.append({\n"
     ]
    }
   ],
   "source": [
    "for i, params in enumerate(param_values):\n",
    "    param_dict = dict(zip(param_names, params))\n",
    "    train_accuracy = np.random.rand()\n",
    "    train_f1_score = np.random.rand()\n",
    "    val_accuracy = np.random.rand()\n",
    "    val_f1_score = np.random.rand()\n",
    "    results_df = results_df.append({\n",
    "            \"iteration\": i,\n",
    "            \"num_conv_layers\": param_dict[\"num_conv_layers\"],\n",
    "            'num_filters': param_dict[\"num_filters\"],\n",
    "            'filter_size': param_dict[\"filter_size\"],\n",
    "            \"num_dense_layers\": param_dict[\"num_dense_layers\"],\n",
    "            \"dense_units\": param_dict[\"dense_units\"],\n",
    "            \"learning_rate\": param_dict[\"learning_rate\"],\n",
    "            \"momentum\": param_dict[\"momentum\"],\n",
    "            \"activation\": param_dict[\"activation\"],\n",
    "            \"padding\": param_dict[\"padding\"],\n",
    "            \"use_batch_norm\": param_dict[\"use_batch_norm\"],\n",
    "            \"use_dropout\": param_dict[\"use_dropout\"],\n",
    "            \"dropout_rate\": param_dict[\"dropout_rate\"],\n",
    "            \"use_early_stopping\": param_dict[\"use_early_stopping\"],\n",
    "            \"patience\": param_dict[\"patience\"],\n",
    "            \"train_accuracy\": train_accuracy, \n",
    "            \"train_f1_score\": train_f1_score,\n",
    "            \"val_accuracy\": val_accuracy,\n",
    "            \"val_f1_score\": val_f1_score,\n",
    "        }, ignore_index=True)"
   ]
  },
  {
   "cell_type": "code",
   "execution_count": 10,
   "metadata": {},
   "outputs": [],
   "source": [
    "results_df.sort_values(by=\"val_f1_score\", ascending=False, inplace=True)\n",
    "secondary = results_df.loc[:, param_names].head(3).to_dict(orient=\"list\")\n",
    "# results_df"
   ]
  },
  {
   "cell_type": "code",
   "execution_count": 15,
   "metadata": {},
   "outputs": [
    {
     "data": {
      "text/html": [
       "<div>\n",
       "<style scoped>\n",
       "    .dataframe tbody tr th:only-of-type {\n",
       "        vertical-align: middle;\n",
       "    }\n",
       "\n",
       "    .dataframe tbody tr th {\n",
       "        vertical-align: top;\n",
       "    }\n",
       "\n",
       "    .dataframe thead th {\n",
       "        text-align: right;\n",
       "    }\n",
       "</style>\n",
       "<table border=\"1\" class=\"dataframe\">\n",
       "  <thead>\n",
       "    <tr style=\"text-align: right;\">\n",
       "      <th></th>\n",
       "      <th>num_conv_layers</th>\n",
       "      <th>num_filters</th>\n",
       "      <th>filter_size</th>\n",
       "      <th>num_dense_layers</th>\n",
       "      <th>dense_units</th>\n",
       "      <th>learning_rate</th>\n",
       "      <th>momentum</th>\n",
       "      <th>activation</th>\n",
       "      <th>padding</th>\n",
       "      <th>use_batch_norm</th>\n",
       "      <th>use_dropout</th>\n",
       "      <th>dropout_rate</th>\n",
       "      <th>use_early_stopping</th>\n",
       "      <th>patience</th>\n",
       "    </tr>\n",
       "  </thead>\n",
       "  <tbody>\n",
       "    <tr>\n",
       "      <th>8</th>\n",
       "      <td>2</td>\n",
       "      <td>32</td>\n",
       "      <td>3</td>\n",
       "      <td>2</td>\n",
       "      <td>128</td>\n",
       "      <td>0.001</td>\n",
       "      <td>0.9</td>\n",
       "      <td>selu</td>\n",
       "      <td>same</td>\n",
       "      <td>False</td>\n",
       "      <td>True</td>\n",
       "      <td>0.2</td>\n",
       "      <td>True</td>\n",
       "      <td>2</td>\n",
       "    </tr>\n",
       "  </tbody>\n",
       "</table>\n",
       "</div>"
      ],
      "text/plain": [
       "  num_conv_layers num_filters filter_size num_dense_layers dense_units  \\\n",
       "8               2          32           3                2         128   \n",
       "\n",
       "  learning_rate momentum activation padding use_batch_norm use_dropout  \\\n",
       "8         0.001      0.9       selu    same          False        True   \n",
       "\n",
       "  dropout_rate use_early_stopping patience  \n",
       "8          0.2               True        2  "
      ]
     },
     "execution_count": 15,
     "metadata": {},
     "output_type": "execute_result"
    }
   ],
   "source": [
    "tertiary = results_df.loc[:, param_names].head(1)\n",
    "tertiary"
   ]
  },
  {
   "cell_type": "code",
   "execution_count": 18,
   "metadata": {},
   "outputs": [
    {
     "data": {
      "text/plain": [
       "2"
      ]
     },
     "execution_count": 18,
     "metadata": {},
     "output_type": "execute_result"
    }
   ],
   "source": [
    "tertiary[\"num_conv_layers\"].values[0]"
   ]
  },
  {
   "cell_type": "code",
   "execution_count": null,
   "metadata": {},
   "outputs": [],
   "source": []
  },
  {
   "cell_type": "code",
   "execution_count": 12,
   "metadata": {},
   "outputs": [
    {
     "data": {
      "text/plain": [
       "odict_values([[2, 3, 4], [32], [3], [1, 2], [128], [0.001], [0.9], ['relu', 'selu', 'tanh'], ['same'], [False, True], [True], [0.2], [True], [2]])"
      ]
     },
     "execution_count": 12,
     "metadata": {},
     "output_type": "execute_result"
    }
   ],
   "source": [
    "conf.a1_q1_hyperparams.values()"
   ]
  },
  {
   "cell_type": "code",
   "execution_count": 13,
   "metadata": {},
   "outputs": [
    {
     "data": {
      "text/plain": [
       "dict_values([[2, 2, 2], [32, 32, 32], [3, 3, 3], [2, 1, 1], [128, 128, 128], [0.001, 0.001, 0.001], [0.9, 0.9, 0.9], ['selu', 'relu', 'relu'], ['same', 'same', 'same'], [False, False, True], [True, True, True], [0.2, 0.2, 0.2], [True, True, True], [2, 2, 2]])"
      ]
     },
     "execution_count": 13,
     "metadata": {},
     "output_type": "execute_result"
    }
   ],
   "source": [
    "secondary.values()"
   ]
  },
  {
   "cell_type": "code",
   "execution_count": null,
   "metadata": {},
   "outputs": [],
   "source": [
    "param_values = list(itertools.product(*secondary))\n",
    "param_values"
   ]
  },
  {
   "cell_type": "code",
   "execution_count": 37,
   "metadata": {},
   "outputs": [
    {
     "data": {
      "text/plain": [
       "{'num_conv_layers': 'num_conv_layers',\n",
       " 'num_filters': 'num_filters',\n",
       " 'filter_size': 'filter_size',\n",
       " 'num_dense_layers': 'num_dense_layers',\n",
       " 'dense_units': 'dense_units',\n",
       " 'learning_rate': 'learning_rate',\n",
       " 'momentum': 'momentum',\n",
       " 'activation': 'activation',\n",
       " 'padding': 'padding',\n",
       " 'use_batch_norm': 'use_batch_norm',\n",
       " 'use_dropout': 'use_dropout',\n",
       " 'dropout_rate': 'dropout_rate',\n",
       " 'use_early_stopping': 'use_early_stopping',\n",
       " 'patience': 'patience'}"
      ]
     },
     "execution_count": 37,
     "metadata": {},
     "output_type": "execute_result"
    }
   ],
   "source": [
    "param_dict"
   ]
  },
  {
   "cell_type": "code",
   "execution_count": 38,
   "metadata": {},
   "outputs": [
    {
     "name": "stderr",
     "output_type": "stream",
     "text": [
      "30-Apr-23 00:57:36 - INFO - Starting 'load_npz'.\n",
      "30-Apr-23 00:57:36 - INFO - Loaded npz file from ../data/05_model_input/A1/cifar10.npz.\n",
      "30-Apr-23 00:57:36 - INFO - Finished 'load_npz' in 0.0055 secs.\n"
     ]
    }
   ],
   "source": [
    "data = load_npz(f\"{conf.paths.a1_input_data}cifar10.npz\")"
   ]
  },
  {
   "cell_type": "code",
   "execution_count": 39,
   "metadata": {},
   "outputs": [
    {
     "data": {
      "text/plain": [
       "numpy.lib.npyio.NpzFile"
      ]
     },
     "execution_count": 39,
     "metadata": {},
     "output_type": "execute_result"
    }
   ],
   "source": [
    "type(data)"
   ]
  },
  {
   "cell_type": "code",
   "execution_count": null,
   "metadata": {},
   "outputs": [],
   "source": []
  },
  {
   "cell_type": "code",
   "execution_count": 40,
   "metadata": {},
   "outputs": [
    {
     "data": {
      "text/plain": [
       "(40000, 32, 32, 3)"
      ]
     },
     "execution_count": 40,
     "metadata": {},
     "output_type": "execute_result"
    }
   ],
   "source": [
    "data[\"trainX\"].shape"
   ]
  },
  {
   "cell_type": "code",
   "execution_count": 41,
   "metadata": {},
   "outputs": [
    {
     "data": {
      "text/plain": [
       "(40000, 10)"
      ]
     },
     "execution_count": 41,
     "metadata": {},
     "output_type": "execute_result"
    }
   ],
   "source": [
    "data[\"trainY\"].shape"
   ]
  },
  {
   "cell_type": "code",
   "execution_count": 42,
   "metadata": {},
   "outputs": [
    {
     "data": {
      "text/plain": [
       "(10000, 10)"
      ]
     },
     "execution_count": 42,
     "metadata": {},
     "output_type": "execute_result"
    }
   ],
   "source": [
    "data[\"valY\"].shape"
   ]
  },
  {
   "cell_type": "code",
   "execution_count": 43,
   "metadata": {},
   "outputs": [
    {
     "data": {
      "text/plain": [
       "(10000, 32, 32, 3)"
      ]
     },
     "execution_count": 43,
     "metadata": {},
     "output_type": "execute_result"
    }
   ],
   "source": [
    "data[\"valX\"].shape"
   ]
  },
  {
   "cell_type": "code",
   "execution_count": null,
   "metadata": {},
   "outputs": [],
   "source": []
  }
 ],
 "metadata": {
  "kernelspec": {
   "display_name": "mlai_cv",
   "language": "python",
   "name": "python3"
  },
  "language_info": {
   "codemirror_mode": {
    "name": "ipython",
    "version": 3
   },
   "file_extension": ".py",
   "mimetype": "text/x-python",
   "name": "python",
   "nbconvert_exporter": "python",
   "pygments_lexer": "ipython3",
   "version": "3.9.10"
  },
  "orig_nbformat": 4
 },
 "nbformat": 4,
 "nbformat_minor": 2
}
