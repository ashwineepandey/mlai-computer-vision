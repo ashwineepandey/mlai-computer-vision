{
 "cells": [
  {
   "cell_type": "code",
   "execution_count": 2,
   "metadata": {},
   "outputs": [],
   "source": [
    "import numpy as np\n",
    "from scipy.stats import entropy\n",
    "from typing import Tuple\n",
    "from keras.models import load_model\n",
    "import utils as ut\n",
    "import plotly.express as px\n",
    "import os\n",
    "import pandas as pd"
   ]
  },
  {
   "cell_type": "code",
   "execution_count": null,
   "metadata": {},
   "outputs": [],
   "source": [
    "@ut.timer\n",
    "def load_pretrained_classifier(model_path):\n",
    "    model = load_model(model_path)\n",
    "    return model\n",
    "\n",
    "@ut.timer\n",
    "def make_prediction(classifier, images: np.ndarray):\n",
    "    # Predict the labels\n",
    "    pred = classifier.predict(images)\n",
    "    # Get the class with the highest probability for each image\n",
    "    class_labels = np.argmax(pred, axis=1)\n",
    "    return pred, class_labels\n",
    "\n",
    "@ut.timer\n",
    "def inception_score(pred, num_classes: int, eps: float = 1e-16) -> Tuple[float, float]:\n",
    "    # Compute the KL divergence for each image\n",
    "    kl = pred * (np.log(pred + eps) - np.log(1.0 / num_classes))\n",
    "    # Compute the average KL divergence\n",
    "    avg_kl = np.mean(np.sum(kl, axis=1))\n",
    "    # Compute the inception score\n",
    "    score = np.exp(avg_kl)\n",
    "    return score\n",
    "\n",
    "\n",
    "@ut.timer\n",
    "def generate_images(generator, noise_dim, num_samples):\n",
    "    # Generate a batch of images\n",
    "    noise = np.random.normal(0, 1, (num_samples, noise_dim))\n",
    "    gen_imgs = generator.predict(noise)\n",
    "    gen_imgs = 0.5 * gen_imgs + 0.5  # Rescale images from [-1, 1] to [0, 1]\n",
    "    return gen_imgs\n",
    "\n",
    "\n",
    "def plot_class_distribution(class_labels, num_classes):\n",
    "    # Count the number of images per class\n",
    "    counts = np.zeros(num_classes)\n",
    "    for label in class_labels:\n",
    "        counts[label] += 1\n",
    "    # Prepare the data for the barplot\n",
    "    data = {'Class': np.arange(num_classes), 'Number of Images': counts}\n",
    "    # Plot the barplot using plotly.express\n",
    "    fig = px.bar(data, x='Class', y='Number of Images', title='Generated Images per Class')\n",
    "    return fig\n",
    "\n",
    "@ut.timer\n",
    "def save_plot(fig, plot_filepath, title, datetime):\n",
    "    prefix = f\"{title}-{datetime}.png\"\n",
    "    filepath = os.path.join(plot_filepath, prefix)\n",
    "    # save figure to file\n",
    "    fig.write_image(filepath)\n",
    "    logger.info(f\"Plot saved: {filepath}\")\n",
    "\n",
    "@ut.timer\n",
    "def plot_inception_score(iterations, inception_scores):\n",
    "    data = pd.DataFrame({'Iterations': iterations, 'Inception Score': inception_scores})\n",
    "    fig = px.line(data, x='Iterations', y='Inception Score', markers=True, title='Inception Score vs Training Iterations')\n",
    "    return fig\n"
   ]
  },
  {
   "cell_type": "code",
   "execution_count": null,
   "metadata": {},
   "outputs": [],
   "source": [
    "conf = ut.load_config()\n",
    "classifier = load_pretrained_classifier(model_path=conf.a3.paths.classifier_model)\n",
    "gen_imgs = generate_images(generator, \n",
    "                           conf.a3.gan_params.noise_dim, \n",
    "                           conf.a3.gan_params.num_samples)\n",
    "_, class_labels = make_prediction(classifier, gen_imgs)\n",
    "fig = plot_class_distribution(class_labels)\n",
    "save_plot(fig, conf.a3.paths.training_inspection_plots, \"classification-distribution\", datetime)\n",
    "fig = plot_inception_score(iterations, inception_scores)\n",
    "save_plot(fig, conf.a3.paths.training_inspection_plots, \"inception-score\", datetime)"
   ]
  },
  {
   "cell_type": "code",
   "execution_count": null,
   "metadata": {},
   "outputs": [],
   "source": []
  }
 ],
 "metadata": {
  "kernelspec": {
   "display_name": "mlai_cvgan",
   "language": "python",
   "name": "python3"
  },
  "language_info": {
   "codemirror_mode": {
    "name": "ipython",
    "version": 3
   },
   "file_extension": ".py",
   "mimetype": "text/x-python",
   "name": "python",
   "nbconvert_exporter": "python",
   "pygments_lexer": "ipython3",
   "version": "3.9.12"
  },
  "orig_nbformat": 4
 },
 "nbformat": 4,
 "nbformat_minor": 2
}
